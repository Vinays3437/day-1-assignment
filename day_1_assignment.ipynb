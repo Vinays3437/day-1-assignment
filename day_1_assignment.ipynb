{
  "nbformat": 4,
  "nbformat_minor": 0,
  "metadata": {
    "colab": {
      "name": "day 1 assignment",
      "provenance": [],
      "collapsed_sections": [],
      "authorship_tag": "ABX9TyORAbZ/6WNe+vTSjgyCknQL",
      "include_colab_link": true
    },
    "kernelspec": {
      "name": "python3",
      "display_name": "Python 3"
    },
    "language_info": {
      "name": "python"
    }
  },
  "cells": [
    {
      "cell_type": "markdown",
      "metadata": {
        "id": "view-in-github",
        "colab_type": "text"
      },
      "source": [
        "<a href=\"https://colab.research.google.com/github/Vinays3437/day-1-assignment/blob/main/day_1_assignment.ipynb\" target=\"_parent\"><img src=\"https://colab.research.google.com/assets/colab-badge.svg\" alt=\"Open In Colab\"/></a>"
      ]
    },
    {
      "cell_type": "code",
      "metadata": {
        "id": "BEHSA_mvLKjk",
        "colab": {
          "base_uri": "https://localhost:8080/"
        },
        "outputId": "05881db1-7f56-4e32-a9d4-c4a33d335f5c"
      },
      "source": [
        "x=int(input('enter the first value:'))\n",
        "y=int(input('enter the second value:'))\n",
        "print(x**y)\n",
        "\n",
        "\n"
      ],
      "execution_count": null,
      "outputs": [
        {
          "output_type": "stream",
          "text": [
            "enter the first value:6\n",
            "enter the second value:8\n",
            "1679616\n"
          ],
          "name": "stdout"
        }
      ]
    }
  ]
}